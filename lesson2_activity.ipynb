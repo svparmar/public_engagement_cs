{
  "nbformat": 4,
  "nbformat_minor": 0,
  "metadata": {
    "colab": {
      "name": "lesson2_activity.ipynb",
      "provenance": [],
      "collapsed_sections": [],
      "include_colab_link": true
    },
    "kernelspec": {
      "name": "python3",
      "display_name": "Python 3"
    },
    "language_info": {
      "name": "python"
    }
  },
  "cells": [
    {
      "cell_type": "markdown",
      "metadata": {
        "id": "view-in-github",
        "colab_type": "text"
      },
      "source": [
        "<a href=\"https://colab.research.google.com/github/svparmar/public_engagement_cs/blob/main/lesson2_activity.ipynb\" target=\"_parent\"><img src=\"https://colab.research.google.com/assets/colab-badge.svg\" alt=\"Open In Colab\"/></a>"
      ]
    },
    {
      "cell_type": "markdown",
      "source": [
        "In this activity, we will be looking at using our skills we have been taught about python, and putting them into practice. \n",
        "\n",
        "To run the program, press the play button on the left hand side of each code cell, as shown in the lessons. "
      ],
      "metadata": {
        "id": "xfM5B0a_q7B2"
      }
    },
    {
      "cell_type": "code",
      "execution_count": null,
      "metadata": {
        "id": "g1q27ln4qbVR"
      },
      "outputs": [],
      "source": [
        "######################################## PLEASE DO NOT MODIFY ################################################################################# \n",
        "import pandas as pd\n",
        "import seaborn as sns\n",
        "import matplotlib.pyplot as plt\n",
        "###############################################################################################################################################"
      ]
    },
    {
      "cell_type": "code",
      "source": [
        "######################################## PLEASE DO NOT MODIFY ################################################################################# \n",
        "\n",
        "# This is the dataset used in the lesson in dictionary form!\n",
        "data_frame={'id': {0: 1, 1: 2, 2: 3, 5: 6, 6: 7, 7: 8, 9: 10, 10: 11, 12: 13, 14: 15, 15: 16, 16: 17, 17: 18, 18: 19, 19: 20, 20: 21, 21: 22, 22: 23, 23: 24, 24: 25, 25: 26, 26: 27, 27: 28, 28: 29, 29: 30, 30: 31, 31: 32, 32: 33, 33: 34, 34: 35, 35: 36, 36: 37, 37: 38, 38: 39, 40: 41, 41: 42, 42: 43, 43: 44, 44: 45, 45: 46, 46: 47, 47: 48, 48: 49, 50: 51, 51: 52, 52: 53, 53: 54, 54: 55, 55: 56, 56: 57, 57: 58, 58: 59, 59: 60, 60: 61, 61: 62, 62: 63, 63: 64, 64: 65, 65: 66, 66: 67, 67: 68, 68: 69, 69: 70, 70: 71, 71: 72, 72: 73, 73: 74, 74: 75, 76: 77, 77: 78, 78: 79, 79: 80, 80: 81, 81: 82, 82: 83, 83: 84, 84: 85, 86: 87, 87: 88, 88: 89, 89: 90, 90: 91, 91: 92, 92: 93, 93: 94, 94: 95, 95: 96, 96: 97, 97: 98, 98: 99, 99: 100, 100: 101, 101: 102, 102: 103, 103: 104, 104: 105, 105: 106, 106: 107, 107: 108, 108: 109, 109: 110, 110: 111, 112: 113, 113: 114, 114: 115, 115: 116, 116: 117, 117: 118, 118: 119, 119: 120, 120: 121, 122: 123, 123: 124, 124: 125, 125: 126, 127: 128, 128: 129, 129: 130, 130: 131, 131: 132, 132: 133, 133: 134, 134: 135, 135: 136, 137: 138, 138: 139, 139: 140, 140: 141, 142: 143, 143: 144, 144: 145, 145: 146, 146: 147, 147: 148, 148: 149, 149: 150, 150: 151, 152: 153, 153: 154, 154: 155, 155: 156, 157: 158, 158: 159, 159: 160, 160: 161, 161: 162, 162: 163, 163: 164, 164: 165, 165: 166, 167: 168, 168: 169, 169: 170, 170: 171, 172: 173, 173: 174, 174: 175, 175: 176, 176: 177, 177: 178, 178: 179, 179: 180, 180: 181, 182: 183, 183: 184, 184: 185, 185: 186, 187: 188, 188: 189, 189: 190, 190: 191, 191: 192, 192: 193, 193: 194, 194: 195, 195: 196, 197: 198, 198: 199, 199: 200}, 'first_name': {0: 'Skipp', 1: 'Ivy', 2: 'Junette', 5: 'Perl', 6: 'Nickolas', 7: 'Jena', 9: 'Ike', 10: 'Hinda', 12: 'Dougy', 14: 'Sutherlan', 15: 'Charmion', 16: 'Stephi', 17: 'Leonanie', 18: 'Remington', 19: 'Freeman', 20: 'Anitra', 21: 'Jobina', 22: 'Alayne', 23: 'Alonzo', 24: 'Clevie', 25: 'Rutherford', 26: 'Jerome', 27: 'Claribel', 28: 'Willdon', 29: 'Jewelle', 30: 'Gwyn', 31: 'Ingamar', 32: 'Ximenes', 33: 'Lee', 34: 'Ransell', 35: 'Lucius', 36: 'Robinet', 37: 'Georg', 38: 'Alie', 40: 'Dierdre', 41: 'Ryann', 42: 'Kimmy', 43: 'Neila', 44: 'Lonnard', 45: 'Wells', 46: 'Rochell', 47: 'Sawyere', 48: 'Demeter', 50: 'Brigitte', 51: 'Vivienne', 52: 'Stafani', 53: 'Garwood', 54: 'Graeme', 55: 'Winston', 56: 'Belinda', 57: 'Amelina', 58: 'Cassondra', 59: 'Judith', 60: 'Jozef', 61: 'Jack', 62: 'Marissa', 63: 'Arley', 64: 'Jeffie', 65: 'Catie', 66: 'Griffin', 67: 'Harri', 68: 'Agneta', 69: 'Colet', 70: 'Jarvis', 71: 'Flory', 72: 'Mora', 73: 'Wilden', 74: 'Juana', 76: 'Eldon', 77: 'Giralda', 78: 'Kalie', 79: 'Alair', 80: 'Siegfried', 81: 'Georgy', 82: 'Merilee', 83: 'Obadias', 84: 'Kenna', 86: 'Ambrosio', 87: 'Netty', 88: 'Mischa', 89: 'Annabal', 90: 'Neysa', 91: 'Cherin', 92: 'Robby', 93: 'Stacee', 94: 'Melonie', 95: 'Veronique', 96: 'Lindy', 97: 'Gae', 98: 'Brigitta', 99: 'Rorke', 100: 'Brigida', 101: 'Gideon', 102: 'Rosene', 103: 'Larine', 104: 'Alecia', 105: 'Seward', 106: 'Reade', 107: 'Aeriel', 108: 'Consolata', 109: 'Conway', 110: 'Sybila', 112: 'Otto', 113: 'Adolpho', 114: 'Olly', 115: 'Kerby', 116: 'Hewitt', 117: 'Batsheva', 118: 'Rainer', 119: 'Zena', 120: 'Brewster', 122: 'Cristy', 123: 'Camile', 124: 'Kally', 125: 'Shelby', 127: 'Hillyer', 128: 'Paulita', 129: 'Margeaux', 130: 'Tulley', 131: 'Darill', 132: 'Glad', 133: 'Fernando', 134: 'Meyer', 135: 'Vannie', 137: 'Roshelle', 138: 'Herrick', 139: 'Lind', 140: 'Helenka', 142: 'Cora', 143: 'Sandi', 144: 'Emilio', 145: 'Mady', 146: 'Inglis', 147: 'Ursula', 148: 'Marge', 149: 'Bili', 150: 'Dewie', 152: 'Appolonia', 153: 'Buddie', 154: 'Chrysa', 155: 'Freda', 157: 'Randall', 158: 'Ashby', 159: 'Claus', 160: 'Valera', 161: 'Violetta', 162: 'Gibby', 163: 'Thurstan', 164: 'Evita', 165: 'Barb', 167: 'Gannon', 168: 'Kyle', 169: 'Benny', 170: 'Grethel', 172: 'Mickie', 173: 'Todd', 174: 'Stefano', 175: 'Calli', 176: 'Guglielma', 177: 'Mattias', 178: 'Ches', 179: 'Horst', 180: 'Belita', 182: 'Bonnie', 183: 'Adela', 184: 'Anthea', 185: 'Kitty', 187: 'Fiona', 188: 'Ivory', 189: 'Iorgo', 190: 'Margarethe', 191: 'Idaline', 192: 'Meridith', 193: 'Gail', 194: 'Carlie', 195: 'Luci', 197: 'Israel', 198: 'Caspar', 199: 'Aimee'}, 'last_name': {0: 'Maffucci', 1: 'Deble', 2: 'Gothrup', 5: 'Collier', 6: 'Cordeau', 7: 'McQuillan', 9: 'Meffan', 10: 'Pellitt', 12: 'Pessler', 14: 'Tuffield', 15: 'Hymas', 16: 'Buckthorpe', 17: 'Filov', 18: 'Young', 19: 'Dienes', 20: 'Deegan', 21: 'Pawelski', 22: 'Birk', 23: 'Benedetti', 24: 'Romao', 25: 'Ingles', 26: 'Firminger', 27: 'Soane', 28: 'Antoinet', 29: 'Lisimore', 30: 'Bracknall', 31: 'Gerg', 32: 'Rosario', 33: 'Tiddeman', 34: 'Tregian', 35: 'Doud', 36: 'Darlaston', 37: 'Dufaur', 38: 'Guinn', 40: 'Ingles', 41: 'Claessens', 42: 'Winterbotham', 43: 'Mattis', 44: \"O' Timony\", 45: 'MacKessock', 46: 'MacTrusty', 47: 'Stockall', 48: 'Durston', 50: 'Dioniso', 51: 'Bentall', 52: 'MacIlurick', 53: 'Glenfield', 54: 'Jamot', 55: 'Scales', 56: 'Matysik', 57: 'Roxby', 58: 'Graysmark', 59: 'Cleworth', 60: 'Lamblin', 61: 'Maisey', 62: 'Dartan', 63: 'Hessel', 64: 'Sharrock', 65: \"Van't Hoff\", 66: 'Bird', 67: 'Blacker', 68: 'Vittet', 69: 'Worpole', 70: 'Spoors', 71: 'Schimmang', 72: 'Dutton', 73: 'Mathely', 74: 'Raun', 76: 'Macrae', 77: 'Eriksson', 78: 'Pawels', 79: 'Sowrah', 80: 'Falkous', 81: 'Fitton', 82: 'Copcote', 83: 'Hinnerk', 84: 'Gudge', 86: 'Ajean', 87: 'MacGuffie', 88: 'Monnery', 89: 'Cohalan', 90: 'Camble', 91: 'Bennellick', 92: 'Edgin', 93: 'Knapper', 94: 'Gooley', 95: 'Hammerson', 96: 'Chatters', 97: 'Duester', 98: 'Tomasini', 99: 'Woolfoot', 100: 'Dallimare', 101: 'Croster', 102: 'Berkely', 103: 'Simcoe', 104: 'Goggan', 105: 'Matessian', 106: 'Barnewall', 107: 'MacClancey', 108: 'Verson', 109: 'Joselson', 110: 'Vellden', 112: 'Cicculini', 113: 'Cuolahan', 114: 'Dowley', 115: 'Minshall', 116: 'Mirams', 117: 'Scrogges', 118: 'Phelan', 119: 'Wheildon', 120: 'Tumilty', 122: 'Mueller', 123: 'Dunsmore', 124: 'Veldens', 125: 'Prior', 127: 'Whybrow', 128: 'Wigfield', 129: 'Tamsett', 130: 'Noblett', 131: 'Stormonth', 132: 'Ivins', 133: 'Boreland', 134: 'Nellis', 135: 'Laugharne', 137: 'MacAllester', 138: 'Lemarie', 139: 'Zanicchi', 140: 'Clewlowe', 142: 'Dosedale', 143: 'Trenoweth', 144: 'Danniel', 145: 'Bulloch', 146: \"O'Cahsedy\", 147: 'Itzkowicz', 148: 'Plumridge', 149: 'Scoffins', 150: 'Danahar', 152: 'Piscot', 153: 'Pickett', 154: 'Greenman', 155: 'Bateup', 157: 'Manderson', 158: 'Ivakhno', 159: 'Dymoke', 160: 'Wakeling', 161: 'Tother', 162: 'Batson', 163: 'Dameisele', 164: 'Cavee', 165: 'Liston', 167: 'Swetman', 168: 'Doore', 169: 'Rougier', 170: 'Macguire', 172: 'Gockeler', 173: 'Adolfson', 174: 'Aslott', 175: 'Lerego', 176: 'Palle', 177: 'Cescoti', 178: 'Mounfield', 179: 'Ferrarello', 180: 'Wasteney', 182: 'Sambath', 183: 'Pawelec', 184: 'Pennycock', 185: 'Eim', 187: 'Cockrell', 188: 'Lyven', 189: 'Drought', 190: 'Newe', 191: 'Hubeaux', 192: 'Ferrarini', 193: 'Dwelly', 194: 'Dulson', 195: 'Rentz', 197: 'Adelberg', 198: 'Beeres', 199: 'Mazhar'}, 'gender': {0: 'Female', 1: 'Female', 2: 'Female', 5: 'Male', 6: 'Male', 7: 'Male', 9: 'Male', 10: 'Male', 12: 'Male', 14: 'Male', 15: 'Male', 16: 'Female', 17: 'Male', 18: 'Male', 19: 'Female', 20: 'Female', 21: 'Male', 22: 'Male', 23: 'Female', 24: 'Male', 25: 'Male', 26: 'Male', 27: 'Female', 28: 'Female', 29: 'Male', 30: 'Male', 31: 'Male', 32: 'Male', 33: 'Male', 34: 'Male', 35: 'Female', 36: 'Female', 37: 'Male', 38: 'Female', 40: 'Female', 41: 'Female', 42: 'Male', 43: 'Male', 44: 'Male', 45: 'Male', 46: 'Male', 47: 'Male', 48: 'Male', 50: 'Male', 51: 'Male', 52: 'Female', 53: 'Male', 54: 'Female', 55: 'Male', 56: 'Female', 57: 'Female', 58: 'Male', 59: 'Female', 60: 'Male', 61: 'Male', 62: 'Female', 63: 'Male', 64: 'Female', 65: 'Female', 66: 'Male', 67: 'Male', 68: 'Female', 69: 'Female', 70: 'Male', 71: 'Male', 72: 'Female', 73: 'Male', 74: 'Male', 76: 'Female', 77: 'Male', 78: 'Male', 79: 'Male', 80: 'Male', 81: 'Male', 82: 'Male', 83: 'Male', 84: 'Male', 86: 'Male', 87: 'Female', 88: 'Male', 89: 'Male', 90: 'Male', 91: 'Female', 92: 'Male', 93: 'Female', 94: 'Male', 95: 'Female', 96: 'Male', 97: 'Male', 98: 'Male', 99: 'Female', 100: 'Male', 101: 'Male', 102: 'Female', 103: 'Female', 104: 'Male', 105: 'Female', 106: 'Male', 107: 'Female', 108: 'Male', 109: 'Female', 110: 'Male', 112: 'Female', 113: 'Male', 114: 'Male', 115: 'Male', 116: 'Female', 117: 'Female', 118: 'Male', 119: 'Male', 120: 'Male', 122: 'Female', 123: 'Male', 124: 'Male', 125: 'Male', 127: 'Male', 128: 'Male', 129: 'Female', 130: 'Female', 131: 'Female', 132: 'Male', 133: 'Male', 134: 'Male', 135: 'Male', 137: 'Male', 138: 'Female', 139: 'Male', 140: 'Female', 142: 'Male', 143: 'Male', 144: 'Female', 145: 'Female', 146: 'Male', 147: 'Female', 148: 'Female', 149: 'Female', 150: 'Male', 152: 'Male', 153: 'Male', 154: 'Female', 155: 'Male', 157: 'Male', 158: 'Male', 159: 'Male', 160: 'Male', 161: 'Male', 162: 'Male', 163: 'Male', 164: 'Male', 165: 'Male', 167: 'Male', 168: 'Male', 169: 'Male', 170: 'Female', 172: 'Female', 173: 'Male', 174: 'Female', 175: 'Male', 176: 'Male', 177: 'Male', 178: 'Male', 179: 'Male', 180: 'Male', 182: 'Male', 183: 'Male', 184: 'Male', 185: 'Male', 187: 'Male', 188: 'Female', 189: 'Male', 190: 'Female', 191: 'Female', 192: 'Female', 193: 'Male', 194: 'Male', 195: 'Male', 197: 'Female', 198: 'Female', 199: 'Female'}, 'job': {0: 'General Manager', 1: 'Nuclear Power Engineer', 2: 'Budget/Accounting Analyst III', 5: 'Biostatistician II', 6: 'Professor', 7: 'Staff Accountant I', 9: 'Speech Pathologist', 10: 'Programmer Analyst II', 12: 'Web Developer IV', 14: 'Help Desk Operator', 15: 'Account Coordinator', 16: 'Developer IV', 17: 'Account Coordinator', 18: 'Data Coordiator', 19: 'Software Test Engineer III', 20: 'Sales Representative', 21: 'Statistician II', 22: 'Account Representative II', 23: 'Professor', 24: 'Administrative Officer', 25: 'Executive Secretary', 26: 'Administrative Assistant I', 27: 'Clinical Specialist', 28: 'Data Coordiator', 29: 'Tax Accountant', 30: 'Physical Therapy Assistant', 31: 'Statistician IV', 32: 'VP Marketing', 33: 'Account Representative IV', 34: 'Director of Sales', 35: 'Computer Systems Analyst IV', 36: 'Graphic Designer', 37: 'Human Resources Manager', 38: 'Engineer IV', 40: 'Actuary', 41: 'Automation Specialist I', 42: 'VP Accounting', 43: 'Desktop Support Technician', 44: 'Research Nurse', 45: 'Junior Executive', 46: 'Cost Accountant', 47: 'Automation Specialist II', 48: 'Marketing Assistant', 50: 'Payment Adjustment Coordinator', 51: 'Nuclear Power Engineer', 52: 'Operator', 53: 'Clinical Specialist', 54: 'Teacher', 55: 'Research Associate', 56: 'Teacher', 57: 'Marketing Manager', 58: 'Senior Sales Associate', 59: 'Technical Writer', 60: 'Business Systems Development Analyst', 61: 'Food Chemist', 62: 'General Manager', 63: 'VP Product Management', 64: 'Senior Developer', 65: 'Safety Technician II', 66: 'Systems Administrator I', 67: 'VP Product Management', 68: 'Analyst Programmer', 69: 'VP Marketing', 70: 'Community Outreach Specialist', 71: 'Electrical Engineer', 72: 'General Manager', 73: 'Senior Sales Associate', 74: 'Executive Secretary', 76: 'Cost Accountant', 77: 'Occupational Therapist', 78: 'Accounting Assistant IV', 79: 'Legal Assistant', 80: 'Librarian', 81: 'Product Engineer', 82: 'Structural Engineer', 83: 'General Manager', 84: 'Programmer Analyst II', 86: 'Software Engineer II', 87: 'Financial Advisor', 88: 'Staff Scientist', 89: 'Registered Nurse', 90: 'Geologist I', 91: 'Civil Engineer', 92: 'Legal Assistant', 93: 'Senior Developer', 94: 'VP Quality Control', 95: 'VP Sales', 96: 'Assistant Media Planner', 97: 'Dental Hygienist', 98: 'Quality Engineer', 99: 'Administrative Officer', 100: 'Product Engineer', 101: 'Clinical Specialist', 102: 'Environmental Tech', 103: 'Editor', 104: 'Media Manager II', 105: 'Financial Advisor', 106: 'Social Worker', 107: 'Accounting Assistant I', 108: 'Paralegal', 109: 'Financial Advisor', 110: 'Marketing Assistant', 112: 'Senior Financial Analyst', 113: 'Administrative Assistant I', 114: 'Senior Financial Analyst', 115: 'Web Designer III', 116: 'Health Coach II', 117: 'Dental Hygienist', 118: 'Research Assistant IV', 119: 'Administrative Officer', 120: 'Engineer IV', 122: 'Dental Hygienist', 123: 'Software Test Engineer III', 124: 'Administrative Assistant I', 125: 'Assistant Professor', 127: 'Product Engineer', 128: 'Software Engineer II', 129: 'Staff Accountant I', 130: 'Marketing Manager', 131: 'Payment Adjustment Coordinator', 132: 'Help Desk Technician', 133: 'Executive Secretary', 134: 'VP Accounting', 135: 'Structural Analysis Engineer', 137: 'Recruiting Manager', 138: 'Senior Quality Engineer', 139: 'Senior Editor', 140: 'Analyst Programmer', 142: 'Account Coordinator', 143: 'Dental Hygienist', 144: 'Senior Developer', 145: 'Administrative Assistant II', 146: 'Administrative Assistant III', 147: 'Project Manager', 148: 'Web Developer III', 149: 'Payment Adjustment Coordinator', 150: 'Office Assistant III', 152: 'Operator', 153: 'Quality Engineer', 154: 'Web Developer I', 155: 'Director of Sales', 157: 'Assistant Media Planner', 158: 'Automation Specialist I', 159: 'Business Systems Development Analyst', 160: 'Product Engineer', 161: 'Accounting Assistant II', 162: 'Environmental Tech', 163: 'Sales Associate', 164: 'Programmer III', 165: 'Environmental Tech', 167: 'Software Test Engineer II', 168: 'Chemical Engineer', 169: 'Physical Therapy Assistant', 170: 'Financial Advisor', 172: 'Structural Engineer', 173: 'Senior Cost Accountant', 174: 'VP Product Management', 175: 'Quality Control Specialist', 176: 'Speech Pathologist', 177: 'Structural Analysis Engineer', 178: 'Research Assistant II', 179: 'Business Systems Development Analyst', 180: 'Clinical Specialist', 182: 'Business Systems Development Analyst', 183: 'Community Outreach Specialist', 184: 'Administrative Officer', 185: 'Compensation Analyst', 187: 'Account Representative III', 188: 'Recruiting Manager', 189: 'Senior Editor', 190: 'Project Manager', 191: 'Environmental Specialist', 192: 'Research Nurse', 193: 'Analyst Programmer', 194: 'Payment Adjustment Coordinator', 195: 'Nurse', 197: 'Safety Technician III', 198: 'Marketing Assistant', 199: 'Software Engineer II'}, 'location': {0: 'London', 1: 'Birmingham', 2: 'London', 5: 'Birstall', 6: 'London', 7: 'London', 9: 'Southampton', 10: 'Nottingham', 12: 'London', 14: 'Leicester', 15: 'Edinburgh', 16: 'London', 17: 'Birmingham', 18: 'Manchester', 19: 'Leeds', 20: 'Newcastle', 21: 'Birstall', 22: 'Glasgow', 23: 'Liverpool', 24: 'Portsmouth', 25: 'Southampton', 26: 'Nottingham', 27: 'Bristol', 28: 'Sheffield', 29: 'Kingston upon Hull', 30: 'Leicester', 31: 'Edinburgh', 32: 'London', 33: 'Birmingham', 34: 'Manchester', 35: 'Leeds', 36: 'London', 37: 'Birmingham', 38: 'London', 40: 'Newcastle', 41: 'Birstall', 42: 'London', 43: 'London', 44: 'London', 45: 'Southampton', 46: 'Nottingham', 47: 'London', 48: 'London', 50: 'Leicester', 51: 'Edinburgh', 52: 'London', 53: 'Birmingham', 54: 'Manchester', 55: 'Leeds', 56: 'Newcastle', 57: 'Birstall', 58: 'Glasgow', 59: 'Liverpool', 60: 'Portsmouth', 61: 'Southampton', 62: 'Nottingham', 63: 'Bristol', 64: 'Sheffield', 65: 'Kingston upon Hull', 66: 'Leicester', 67: 'Edinburgh', 68: 'London', 69: 'Birmingham', 70: 'Manchester', 71: 'Leeds', 72: 'London', 73: 'Birmingham', 74: 'London', 76: 'Newcastle', 77: 'Birstall', 78: 'London', 79: 'London', 80: 'London', 81: 'Southampton', 82: 'Nottingham', 83: 'London', 84: 'London', 86: 'Leicester', 87: 'Edinburgh', 88: 'London', 89: 'Birmingham', 90: 'Manchester', 91: 'Leeds', 92: 'Newcastle', 93: 'Birstall', 94: 'Glasgow', 95: 'Liverpool', 96: 'Portsmouth', 97: 'Southampton', 98: 'Nottingham', 99: 'Bristol', 100: 'Sheffield', 101: 'Kingston upon Hull', 102: 'Leicester', 103: 'Edinburgh', 104: 'London', 105: 'Birmingham', 106: 'Manchester', 107: 'Leeds', 108: 'London', 109: 'Birmingham', 110: 'London', 112: 'Newcastle', 113: 'Birstall', 114: 'London', 115: 'London', 116: 'London', 117: 'Southampton', 118: 'Nottingham', 119: 'London', 120: 'London', 122: 'Leicester', 123: 'London', 124: 'Birmingham', 125: 'London', 127: 'Newcastle', 128: 'Birstall', 129: 'London', 130: 'London', 131: 'London', 132: 'Southampton', 133: 'Nottingham', 134: 'London', 135: 'London', 137: 'Leicester', 138: 'London', 139: 'Birmingham', 140: 'London', 142: 'Newcastle', 143: 'Birstall', 144: 'London', 145: 'London', 146: 'London', 147: 'Southampton', 148: 'Nottingham', 149: 'London', 150: 'London', 152: 'Leicester', 153: 'London', 154: 'Birmingham', 155: 'London', 157: 'Newcastle', 158: 'Birstall', 159: 'London', 160: 'London', 161: 'London', 162: 'Southampton', 163: 'Nottingham', 164: 'London', 165: 'London', 167: 'Leicester', 168: 'London', 169: 'Birmingham', 170: 'London', 172: 'Newcastle', 173: 'Birstall', 174: 'London', 175: 'London', 176: 'London', 177: 'Southampton', 178: 'Nottingham', 179: 'London', 180: 'London', 182: 'Leicester', 183: 'London', 184: 'Birmingham', 185: 'London', 187: 'Newcastle', 188: 'Birstall', 189: 'London', 190: 'London', 191: 'London', 192: 'Southampton', 193: 'Nottingham', 194: 'London', 195: 'London', 197: 'Leicester', 198: 'London', 199: 'Edinburgh'}, 'salary': {0: 29916.7, 1: 26090.27, 2: 29616.14, 5: 33592.57, 6: 34079.36, 7: 38650.4, 9: 36300.63, 10: 29018.32, 12: 21346.28, 14: 22192.05, 15: 35719.15, 16: 49626.79, 17: 24821.87, 18: 89824.38, 19: 61431.4, 20: 91089.42, 21: 57068.07, 22: 96580.46, 23: 75490.0, 24: 93328.12, 25: 83012.95, 26: 60876.37, 27: 54216.02, 28: 97555.42, 29: 66504.16, 30: 22074.24, 31: 94431.96, 32: 32274.27, 33: 89830.24, 34: 21435.67, 35: 64670.29, 36: 20801.74, 37: 82157.21, 38: 80423.23, 40: 49443.7, 41: 91780.26, 42: 49597.9, 43: 38743.8, 44: 27810.63, 45: 61515.52, 46: 58141.34, 47: 61310.87, 48: 17135.57, 50: 66616.45, 51: 20983.41, 52: 33605.34, 53: 63465.69, 54: 49472.82, 55: 95999.36, 56: 72635.5, 57: 82565.46, 58: 34412.12, 59: 18667.38, 60: 96674.81, 61: 52455.35, 62: 59345.13, 63: 94037.53, 64: 60296.8, 65: 42140.37, 66: 62201.41, 67: 38453.05, 68: 30321.24, 69: 54086.99, 70: 66399.88, 71: 79860.41, 72: 94027.25, 73: 15664.6, 74: 92598.31, 76: 99964.65, 77: 97106.61, 78: 40623.67, 79: 45227.98, 80: 98610.36, 81: 83255.49, 82: 98862.98, 83: 45874.34, 84: 27813.1, 86: 72386.63, 87: 31359.41, 88: 78721.54, 89: 94170.16, 90: 32762.31, 91: 97593.18, 92: 50776.92, 93: 16794.09, 94: 71453.08, 95: 84615.59, 96: 65796.5, 97: 18982.75, 98: 92499.35, 99: 54959.96, 100: 92832.51, 101: 37270.32, 102: 38087.56, 103: 37572.45, 104: 16686.21, 105: 74204.96, 106: 54573.82, 107: 93319.95, 108: 86725.41, 109: 52421.88, 110: 72253.63, 112: 62129.31, 113: 60290.14, 114: 24113.38, 115: 45430.35, 116: 97448.65, 117: 38571.03, 118: 47225.18, 119: 56967.13, 120: 55478.0, 122: 80546.82, 123: 75631.61, 124: 32281.92, 125: 95934.93, 127: 61170.14, 128: 50621.78, 129: 27686.54, 130: 42013.51, 131: 30633.86, 132: 38686.78, 133: 25296.97, 134: 81622.75, 135: 74002.87, 137: 36105.94, 138: 30509.79, 139: 23935.36, 140: 59610.72, 142: 75054.95, 143: 63870.74, 144: 88606.6, 145: 45908.25, 146: 71617.25, 147: 57164.96, 148: 38833.32, 149: 22230.76, 150: 35927.27, 152: 52031.24, 153: 63001.39, 154: 19602.89, 155: 46714.79, 157: 31591.43, 158: 60738.16, 159: 79261.73, 160: 92330.07, 161: 98678.53, 162: 38616.87, 163: 96669.86, 164: 70205.88, 165: 72479.35, 167: 63560.39, 168: 68359.35, 169: 24582.67, 170: 99490.92, 172: 78181.1, 173: 71362.48, 174: 44638.93, 175: 77881.71, 176: 91841.51, 177: 68704.74, 178: 69493.19, 179: 48812.04, 180: 87291.36, 182: 51479.78, 183: 39388.94, 184: 76725.93, 185: 54220.46, 187: 46330.6, 188: 40526.48, 189: 52123.57, 190: 33912.91, 191: 78793.69, 192: 29062.07, 193: 65495.47, 194: 22313.26, 195: 94026.12, 197: 81465.37, 198: 68470.72, 199: 29000.98}, 'shirt_size': {0: 'S', 1: 'XS', 2: 'L', 5: '2XL', 6: 'L', 7: 'XS', 9: 'L', 10: '2XL', 12: 'XS', 14: 'XL', 15: 'XL', 16: 'XL', 17: '2XL', 18: 'XL', 19: 'L', 20: 'L', 21: 'XS', 22: 'XS', 23: '2XL', 24: 'L', 25: 'XL', 26: 'XL', 27: 'XL', 28: 'XL', 29: 'S', 30: 'M', 31: 'S', 32: 'XL', 33: 'XS', 34: '2XL', 35: '3XL', 36: 'XS', 37: '3XL', 38: '3XL', 40: 'M', 41: 'XS', 42: 'XS', 43: 'L', 44: '3XL', 45: '3XL', 46: 'L', 47: 'XL', 48: '2XL', 50: '3XL', 51: 'L', 52: 'XS', 53: 'L', 54: '2XL', 55: 'XS', 56: 'XS', 57: 'L', 58: 'XS', 59: 'M', 60: 'S', 61: 'M', 62: 'M', 63: '3XL', 64: '3XL', 65: 'XL', 66: 'L', 67: '3XL', 68: 'XL', 69: '3XL', 70: '3XL', 71: 'S', 72: 'XS', 73: 'M', 74: 'XS', 76: 'M', 77: 'XL', 78: 'S', 79: 'M', 80: 'L', 81: 'S', 82: 'S', 83: '2XL', 84: 'L', 86: 'XL', 87: 'XL', 88: 'S', 89: 'M', 90: 'XL', 91: 'XS', 92: 'XL', 93: 'XS', 94: 'XS', 95: 'XS', 96: 'M', 97: 'M', 98: '3XL', 99: '2XL', 100: '2XL', 101: 'L', 102: 'XL', 103: 'XS', 104: 'L', 105: 'L', 106: '2XL', 107: 'XS', 108: 'S', 109: 'S', 110: '3XL', 112: '3XL', 113: 'L', 114: 'XS', 115: 'M', 116: '3XL', 117: 'S', 118: 'XL', 119: '2XL', 120: 'M', 122: '3XL', 123: 'S', 124: 'XL', 125: '3XL', 127: 'L', 128: 'L', 129: 'L', 130: 'XS', 131: 'M', 132: 'L', 133: 'S', 134: 'M', 135: 'M', 137: 'L', 138: '2XL', 139: 'XS', 140: 'S', 142: 'XS', 143: 'XS', 144: 'XS', 145: 'XL', 146: 'XL', 147: 'S', 148: 'M', 149: '3XL', 150: 'M', 152: 'XS', 153: 'M', 154: 'S', 155: 'L', 157: 'M', 158: 'L', 159: 'S', 160: 'XS', 161: 'S', 162: 'S', 163: '2XL', 164: 'XL', 165: '3XL', 167: 'M', 168: '3XL', 169: 'XS', 170: 'L', 172: 'XS', 173: '3XL', 174: '2XL', 175: 'XL', 176: 'XS', 177: 'M', 178: 'XL', 179: '3XL', 180: '3XL', 182: 'S', 183: '2XL', 184: '3XL', 185: 'S', 187: 'S', 188: 'XL', 189: 'S', 190: '2XL', 191: 'XL', 192: 'XS', 193: 'S', 194: 'L', 195: 'M', 197: 'XS', 198: '3XL', 199: '3XL'}}\n",
        "\n",
        "\n",
        "data_frame=pd.DataFrame.from_dict(data_frame)\n",
        "\n",
        "###############################################################################################################################################"
      ],
      "metadata": {
        "id": "pPnc1kcThDii"
      },
      "execution_count": null,
      "outputs": []
    },
    {
      "cell_type": "markdown",
      "source": [
        "# Task 1\n",
        "\n",
        "Create a bar chart to show the number of people at each location from the dataset.\n",
        "\n",
        "Hint: the python tutorial walkthrough may help!"
      ],
      "metadata": {
        "id": "NrpupRwbs176"
      }
    },
    {
      "cell_type": "code",
      "source": [
        "# Your code starts here"
      ],
      "metadata": {
        "id": "cNI1iXWnr2hr"
      },
      "execution_count": null,
      "outputs": []
    },
    {
      "cell_type": "markdown",
      "source": [
        "# Task 2\n",
        "\n",
        "Using the dataset and pandas operations, output the rows which contain the job title 'Operator'.\n",
        "\n"
      ],
      "metadata": {
        "id": "3eOTf4dftpyp"
      }
    },
    {
      "cell_type": "code",
      "source": [
        "# Your code starts here"
      ],
      "metadata": {
        "id": "oQUQrSrSuTgv"
      },
      "execution_count": null,
      "outputs": []
    },
    {
      "cell_type": "markdown",
      "source": [
        "## Advanced Task 2\n",
        "\n",
        "Using the dataset and pandas operations, output the rows with salaries between 35000 and 45000."
      ],
      "metadata": {
        "id": "eNizt7qhyJIa"
      }
    },
    {
      "cell_type": "code",
      "source": [
        "# Your code starts here"
      ],
      "metadata": {
        "id": "bonjmePGxi1x"
      },
      "execution_count": null,
      "outputs": []
    },
    {
      "cell_type": "markdown",
      "source": [
        "# Task 3\n",
        "\n",
        "Using the data called **data_frame** and pandas operations, replace all locations called Birstall with London."
      ],
      "metadata": {
        "id": "yletFzpux8yt"
      }
    },
    {
      "cell_type": "code",
      "source": [
        "# Your code starts here"
      ],
      "metadata": {
        "id": "RAszDa76yc5A"
      },
      "execution_count": null,
      "outputs": []
    },
    {
      "cell_type": "markdown",
      "source": [
        "# Task 4\n",
        "\n",
        "Using the dataset and pandas operations, identify which age has missing data.\n",
        "\n",
        "HINT: Look at the tutorial recording for something similar! You will need to convert the lists into a dataframe and then visualise "
      ],
      "metadata": {
        "id": "Fo0USYPW2u8z"
      }
    },
    {
      "cell_type": "code",
      "source": [
        "######################################## PLEASE DO NOT MODIFY ################################################################################# \n",
        "\n",
        "salary=[20000, 25000, 30000, 35000, 40000, 45000, 21000, 25800, 30600, 35400, 40200, 45000, 22000, 26900, 31800, 36700, 41600, 46500]\n",
        "ages=[20,21,22,None,24,25,20,21,22,None,24,25,20,21,22,None,24,25]\n",
        "\n",
        "###############################################################################################################################################\n",
        "\n",
        "# Write your code below\n"
      ],
      "metadata": {
        "id": "-vlsPsVV3GV6"
      },
      "execution_count": null,
      "outputs": []
    },
    {
      "cell_type": "markdown",
      "source": [
        "# Extension exercises\n",
        "\n",
        "Well done for completing the activity!\n",
        "\n",
        "If you'd like a challenge please go to the following link:\n",
        "\n",
        "https://www.w3resource.com/python-exercises/pandas/index-dataframe.php"
      ],
      "metadata": {
        "id": "2suLAanbnjbE"
      }
    }
  ]
}